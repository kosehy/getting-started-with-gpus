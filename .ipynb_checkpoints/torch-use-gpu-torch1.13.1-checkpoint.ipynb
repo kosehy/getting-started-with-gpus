{
 "cells": [
  {
   "cell_type": "markdown",
   "id": "46cbaad3-86be-4024-8486-ba1ae99c885b",
   "metadata": {},
   "source": [
    "# Using GPU resources with PyTorch\n",
    "\n",
    "This notebook walks you through how to use a GPU, using the PyTorch machine learning framework. You can run each cell one by one as you work through the content, or run all cells and read through all output at the same time.\n",
    "\n",
    "In this notebook you will learn how to:\n",
    "\n",
    "1. Import Torch libraries\n",
    "1. List available GPUs.\n",
    "1. Check that GPUs are enabled.\n",
    "1. Assign a GPU device and retrieve the device name.\n",
    "1. Load vectors, matrices, and data onto a GPU.\n",
    "1. Load a neural network model onto a GPU.\n",
    "1. Train the neural network model."
   ]
  },
  {
   "cell_type": "code",
   "execution_count": 1,
   "id": "63e86225-3eb9-48c2-b275-4c7edafad8ac",
   "metadata": {},
   "outputs": [
    {
     "name": "stdout",
     "output_type": "stream",
     "text": [
      "Collecting package metadata (current_repodata.json): done\n",
      "Solving environment: failed with initial frozen solve. Retrying with flexible solve.\n",
      "Collecting package metadata (repodata.json): done\n",
      "Solving environment: done\n",
      "\n",
      "\n",
      "==> WARNING: A newer version of conda exists. <==\n",
      "  current version: 22.9.0\n",
      "  latest version: 23.5.0\n",
      "\n",
      "Please update conda by running\n",
      "\n",
      "    $ conda update -n base -c conda-forge conda\n",
      "\n",
      "\n",
      "\n",
      "## Package Plan ##\n",
      "\n",
      "  environment location: /opt/conda\n",
      "\n",
      "  added / updated specs:\n",
      "    - ipykernel\n",
      "    - pytorch-cuda=11.6\n",
      "    - pytorch==1.13.1\n",
      "    - torchaudio==0.13.1\n",
      "    - torchvision==0.14.1\n",
      "\n",
      "\n",
      "The following packages will be downloaded:\n",
      "\n",
      "    package                    |            build\n",
      "    ---------------------------|-----------------\n",
      "    _openmp_mutex-4.5          |       2_kmp_llvm           6 KB  conda-forge\n",
      "    blas-2.116                 |              mkl          13 KB  conda-forge\n",
      "    blas-devel-3.9.0           |   16_linux64_mkl          12 KB  conda-forge\n",
      "    ca-certificates-2023.5.7   |       hbcca054_0         145 KB  conda-forge\n",
      "    certifi-2023.5.7           |     pyhd8ed1ab_0         149 KB  conda-forge\n",
      "    comm-0.1.3                 |     pyhd8ed1ab_0          11 KB  conda-forge\n",
      "    cuda-11.6.1                |                0           1 KB  nvidia\n",
      "    cuda-cccl-11.6.55          |       hf6102b2_0         1.2 MB  nvidia\n",
      "    cuda-command-line-tools-11.6.2|                0           1 KB  nvidia\n",
      "    cuda-compiler-11.6.2       |                0           1 KB  nvidia\n",
      "    cuda-cudart-11.6.55        |       he381448_0         194 KB  nvidia\n",
      "    cuda-cudart-dev-11.6.55    |       h42ad0f4_0         1.0 MB  nvidia\n",
      "    cuda-cuobjdump-11.6.124    |       h2eeebcb_0         134 KB  nvidia\n",
      "    cuda-cupti-11.6.124        |       h86345e5_0        22.1 MB  nvidia\n",
      "    cuda-cuxxfilt-11.6.124     |       hecbf4f6_0         283 KB  nvidia\n",
      "    cuda-driver-dev-11.6.55    |                0          16 KB  nvidia\n",
      "    cuda-gdb-12.2.53           |                0         5.3 MB  nvidia\n",
      "    cuda-libraries-11.6.1      |                0           1 KB  nvidia\n",
      "    cuda-libraries-dev-11.6.1  |                0           2 KB  nvidia\n",
      "    cuda-memcheck-11.8.86      |                0         168 KB  nvidia\n",
      "    cuda-nsight-12.2.53        |                0       113.6 MB  nvidia\n",
      "    cuda-nsight-compute-12.2.0 |                0           1 KB  nvidia\n",
      "    cuda-nvcc-11.6.124         |       hbba6d2d_0        42.2 MB  nvidia\n",
      "    cuda-nvdisasm-12.2.53      |                0        47.9 MB  nvidia\n",
      "    cuda-nvml-dev-11.6.55      |       haa9ef22_0          65 KB  nvidia\n",
      "    cuda-nvprof-12.2.60        |                0         4.7 MB  nvidia\n",
      "    cuda-nvprune-11.6.124      |       he22ec0a_0          65 KB  nvidia\n",
      "    cuda-nvrtc-11.6.124        |       h020bade_0        17.1 MB  nvidia\n",
      "    cuda-nvrtc-dev-11.6.124    |       h249d397_0        16.8 MB  nvidia\n",
      "    cuda-nvtx-11.6.124         |       h0630a44_0          58 KB  nvidia\n",
      "    cuda-nvvp-12.2.60          |                0       114.5 MB  nvidia\n",
      "    cuda-runtime-11.6.1        |                0           1 KB  nvidia\n",
      "    cuda-samples-11.6.101      |       h8efea70_0           5 KB  nvidia\n",
      "    cuda-sanitizer-api-12.2.53 |                0        16.8 MB  nvidia\n",
      "    cuda-toolkit-11.6.1        |                0           1 KB  nvidia\n",
      "    cuda-tools-11.6.1          |                0           1 KB  nvidia\n",
      "    cuda-visual-tools-11.6.1   |                0           1 KB  nvidia\n",
      "    ffmpeg-4.3                 |       hf484d3e_0         9.9 MB  pytorch\n",
      "    freetype-2.12.1            |       hca18f0e_0         884 KB  conda-forge\n",
      "    gds-tools-1.7.0.149        |                0        40.8 MB  nvidia\n",
      "    gmp-6.2.1                  |       h58526e2_0         806 KB  conda-forge\n",
      "    gnutls-3.6.13              |       h85f3911_1         2.0 MB  conda-forge\n",
      "    ipykernel-6.20.2           |     pyh210e3f2_0         108 KB  conda-forge\n",
      "    jpeg-9e                    |       h0b41bf4_3         235 KB  conda-forge\n",
      "    lame-3.100                 |    h166bdaf_1003         496 KB  conda-forge\n",
      "    lcms2-2.14                 |       h6ed2654_0         256 KB  conda-forge\n",
      "    lerc-4.0.0                 |       h27087fc_0         275 KB  conda-forge\n",
      "    libblas-3.9.0              |   16_linux64_mkl          13 KB  conda-forge\n",
      "    libcblas-3.9.0             |   16_linux64_mkl          12 KB  conda-forge\n",
      "    libcublas-11.9.2.110       |       h5e84587_0       300.8 MB  nvidia\n",
      "    libcublas-dev-11.9.2.110   |       h5c901ab_0       310.9 MB  nvidia\n",
      "    libcufft-10.7.1.112        |       hf425ae0_0        93.6 MB  nvidia\n",
      "    libcufft-dev-10.7.1.112    |       ha5ce4c0_0       197.2 MB  nvidia\n",
      "    libcufile-1.7.0.149        |                0        1021 KB  nvidia\n",
      "    libcufile-dev-1.7.0.149    |                0          14 KB  nvidia\n",
      "    libcurand-10.3.3.53        |                0        51.6 MB  nvidia\n",
      "    libcurand-dev-10.3.3.53    |                0         449 KB  nvidia\n",
      "    libcusolver-11.3.4.124     |       h33c3c4e_0        87.0 MB  nvidia\n",
      "    libcusparse-11.7.2.124     |       h7538f96_0       160.9 MB  nvidia\n",
      "    libcusparse-dev-11.7.2.124 |       hbbe9722_0       328.9 MB  nvidia\n",
      "    libdeflate-1.14            |       h166bdaf_0          81 KB  conda-forge\n",
      "    libgfortran-ng-13.1.0      |       h69a702a_0          23 KB  conda-forge\n",
      "    libgfortran5-13.1.0        |       h15d22d2_0         1.4 MB  conda-forge\n",
      "    liblapack-3.9.0            |   16_linux64_mkl          12 KB  conda-forge\n",
      "    liblapacke-3.9.0           |   16_linux64_mkl          12 KB  conda-forge\n",
      "    libnpp-11.6.3.124          |       hd2722f0_0       118.4 MB  nvidia\n",
      "    libnpp-dev-11.6.3.124      |       h3c42840_0       115.6 MB  nvidia\n",
      "    libnvjpeg-11.6.2.124       |       hd473ad6_0         2.3 MB  nvidia\n",
      "    libnvjpeg-dev-11.6.2.124   |       hb5906b9_0         2.0 MB  nvidia\n",
      "    libpng-1.6.38              |       h753d276_0         371 KB  conda-forge\n",
      "    libtiff-4.4.0              |       h55922b4_4         651 KB  conda-forge\n",
      "    libwebp-base-1.3.1         |       hd590300_0         391 KB  conda-forge\n",
      "    libxcb-1.13                |    h7f98852_1004         391 KB  conda-forge\n",
      "    llvm-openmp-14.0.4         |       he0ac6c6_0         5.8 MB  conda-forge\n",
      "    mkl-2022.1.0               |     h84fe81f_915       199.6 MB  conda-forge\n",
      "    mkl-devel-2022.1.0         |     ha770c72_916          25 KB  conda-forge\n",
      "    mkl-include-2022.1.0       |     h84fe81f_915         745 KB  conda-forge\n",
      "    nettle-3.6                 |       he412f7d_0         6.5 MB  conda-forge\n",
      "    nsight-compute-2023.2.0.16 |                0       792.3 MB  nvidia\n",
      "    numpy-1.25.0               |  py310ha4c1d20_0         6.5 MB  conda-forge\n",
      "    openh264-2.1.1             |       h780b84a_0         1.5 MB  conda-forge\n",
      "    openjpeg-2.5.0             |       h7d73246_1         533 KB  conda-forge\n",
      "    openssl-1.1.1u             |       hd590300_0         1.9 MB  conda-forge\n",
      "    pillow-9.2.0               |  py310hbd86126_2        45.0 MB  conda-forge\n",
      "    pthread-stubs-0.4          |    h36c2ea0_1001           5 KB  conda-forge\n",
      "    pytorch-1.13.1             |py3.10_cuda11.6_cudnn8.3.2_0        1.27 GB  pytorch\n",
      "    pytorch-cuda-11.6          |       h867d48c_1           3 KB  pytorch\n",
      "    pytorch-mutex-1.0          |             cuda           3 KB  pytorch\n",
      "    tbb-2021.7.0               |       h924138e_0         2.0 MB  conda-forge\n",
      "    torchaudio-0.13.1          |      py310_cu116         6.5 MB  pytorch\n",
      "    torchvision-0.14.1         |      py310_cu116         7.8 MB  pytorch\n",
      "    xorg-libxau-1.0.11         |       hd590300_0          14 KB  conda-forge\n",
      "    xorg-libxdmcp-1.1.3        |       h7f98852_0          19 KB  conda-forge\n",
      "    ------------------------------------------------------------\n",
      "                                           Total:        4.51 GB\n",
      "\n",
      "The following NEW packages will be INSTALLED:\n",
      "\n",
      "  blas               conda-forge/linux-64::blas-2.116-mkl None\n",
      "  blas-devel         conda-forge/linux-64::blas-devel-3.9.0-16_linux64_mkl None\n",
      "  comm               conda-forge/noarch::comm-0.1.3-pyhd8ed1ab_0 None\n",
      "  cuda               nvidia/linux-64::cuda-11.6.1-0 None\n",
      "  cuda-cccl          nvidia/linux-64::cuda-cccl-11.6.55-hf6102b2_0 None\n",
      "  cuda-command-line~ nvidia/linux-64::cuda-command-line-tools-11.6.2-0 None\n",
      "  cuda-compiler      nvidia/linux-64::cuda-compiler-11.6.2-0 None\n",
      "  cuda-cudart        nvidia/linux-64::cuda-cudart-11.6.55-he381448_0 None\n",
      "  cuda-cudart-dev    nvidia/linux-64::cuda-cudart-dev-11.6.55-h42ad0f4_0 None\n",
      "  cuda-cuobjdump     nvidia/linux-64::cuda-cuobjdump-11.6.124-h2eeebcb_0 None\n",
      "  cuda-cupti         nvidia/linux-64::cuda-cupti-11.6.124-h86345e5_0 None\n",
      "  cuda-cuxxfilt      nvidia/linux-64::cuda-cuxxfilt-11.6.124-hecbf4f6_0 None\n",
      "  cuda-driver-dev    nvidia/linux-64::cuda-driver-dev-11.6.55-0 None\n",
      "  cuda-gdb           nvidia/linux-64::cuda-gdb-12.2.53-0 None\n",
      "  cuda-libraries     nvidia/linux-64::cuda-libraries-11.6.1-0 None\n",
      "  cuda-libraries-dev nvidia/linux-64::cuda-libraries-dev-11.6.1-0 None\n",
      "  cuda-memcheck      nvidia/linux-64::cuda-memcheck-11.8.86-0 None\n",
      "  cuda-nsight        nvidia/linux-64::cuda-nsight-12.2.53-0 None\n",
      "  cuda-nsight-compu~ nvidia/linux-64::cuda-nsight-compute-12.2.0-0 None\n",
      "  cuda-nvcc          nvidia/linux-64::cuda-nvcc-11.6.124-hbba6d2d_0 None\n",
      "  cuda-nvdisasm      nvidia/linux-64::cuda-nvdisasm-12.2.53-0 None\n",
      "  cuda-nvml-dev      nvidia/linux-64::cuda-nvml-dev-11.6.55-haa9ef22_0 None\n",
      "  cuda-nvprof        nvidia/linux-64::cuda-nvprof-12.2.60-0 None\n",
      "  cuda-nvprune       nvidia/linux-64::cuda-nvprune-11.6.124-he22ec0a_0 None\n",
      "  cuda-nvrtc         nvidia/linux-64::cuda-nvrtc-11.6.124-h020bade_0 None\n",
      "  cuda-nvrtc-dev     nvidia/linux-64::cuda-nvrtc-dev-11.6.124-h249d397_0 None\n",
      "  cuda-nvtx          nvidia/linux-64::cuda-nvtx-11.6.124-h0630a44_0 None\n",
      "  cuda-nvvp          nvidia/linux-64::cuda-nvvp-12.2.60-0 None\n",
      "  cuda-runtime       nvidia/linux-64::cuda-runtime-11.6.1-0 None\n",
      "  cuda-samples       nvidia/linux-64::cuda-samples-11.6.101-h8efea70_0 None\n",
      "  cuda-sanitizer-api nvidia/linux-64::cuda-sanitizer-api-12.2.53-0 None\n",
      "  cuda-toolkit       nvidia/linux-64::cuda-toolkit-11.6.1-0 None\n",
      "  cuda-tools         nvidia/linux-64::cuda-tools-11.6.1-0 None\n",
      "  cuda-visual-tools  nvidia/linux-64::cuda-visual-tools-11.6.1-0 None\n",
      "  ffmpeg             pytorch/linux-64::ffmpeg-4.3-hf484d3e_0 None\n",
      "  freetype           conda-forge/linux-64::freetype-2.12.1-hca18f0e_0 None\n",
      "  gds-tools          nvidia/linux-64::gds-tools-1.7.0.149-0 None\n",
      "  gmp                conda-forge/linux-64::gmp-6.2.1-h58526e2_0 None\n",
      "  gnutls             conda-forge/linux-64::gnutls-3.6.13-h85f3911_1 None\n",
      "  jpeg               conda-forge/linux-64::jpeg-9e-h0b41bf4_3 None\n",
      "  lame               conda-forge/linux-64::lame-3.100-h166bdaf_1003 None\n",
      "  lcms2              conda-forge/linux-64::lcms2-2.14-h6ed2654_0 None\n",
      "  lerc               conda-forge/linux-64::lerc-4.0.0-h27087fc_0 None\n",
      "  libblas            conda-forge/linux-64::libblas-3.9.0-16_linux64_mkl None\n",
      "  libcblas           conda-forge/linux-64::libcblas-3.9.0-16_linux64_mkl None\n",
      "  libcublas          nvidia/linux-64::libcublas-11.9.2.110-h5e84587_0 None\n",
      "  libcublas-dev      nvidia/linux-64::libcublas-dev-11.9.2.110-h5c901ab_0 None\n",
      "  libcufft           nvidia/linux-64::libcufft-10.7.1.112-hf425ae0_0 None\n",
      "  libcufft-dev       nvidia/linux-64::libcufft-dev-10.7.1.112-ha5ce4c0_0 None\n",
      "  libcufile          nvidia/linux-64::libcufile-1.7.0.149-0 None\n",
      "  libcufile-dev      nvidia/linux-64::libcufile-dev-1.7.0.149-0 None\n",
      "  libcurand          nvidia/linux-64::libcurand-10.3.3.53-0 None\n",
      "  libcurand-dev      nvidia/linux-64::libcurand-dev-10.3.3.53-0 None\n",
      "  libcusolver        nvidia/linux-64::libcusolver-11.3.4.124-h33c3c4e_0 None\n",
      "  libcusparse        nvidia/linux-64::libcusparse-11.7.2.124-h7538f96_0 None\n",
      "  libcusparse-dev    nvidia/linux-64::libcusparse-dev-11.7.2.124-hbbe9722_0 None\n",
      "  libdeflate         conda-forge/linux-64::libdeflate-1.14-h166bdaf_0 None\n",
      "  libgfortran-ng     conda-forge/linux-64::libgfortran-ng-13.1.0-h69a702a_0 None\n",
      "  libgfortran5       conda-forge/linux-64::libgfortran5-13.1.0-h15d22d2_0 None\n",
      "  liblapack          conda-forge/linux-64::liblapack-3.9.0-16_linux64_mkl None\n",
      "  liblapacke         conda-forge/linux-64::liblapacke-3.9.0-16_linux64_mkl None\n",
      "  libnpp             nvidia/linux-64::libnpp-11.6.3.124-hd2722f0_0 None\n",
      "  libnpp-dev         nvidia/linux-64::libnpp-dev-11.6.3.124-h3c42840_0 None\n",
      "  libnvjpeg          nvidia/linux-64::libnvjpeg-11.6.2.124-hd473ad6_0 None\n",
      "  libnvjpeg-dev      nvidia/linux-64::libnvjpeg-dev-11.6.2.124-hb5906b9_0 None\n",
      "  libpng             conda-forge/linux-64::libpng-1.6.38-h753d276_0 None\n",
      "  libtiff            conda-forge/linux-64::libtiff-4.4.0-h55922b4_4 None\n",
      "  libwebp-base       conda-forge/linux-64::libwebp-base-1.3.1-hd590300_0 None\n",
      "  libxcb             conda-forge/linux-64::libxcb-1.13-h7f98852_1004 None\n",
      "  llvm-openmp        conda-forge/linux-64::llvm-openmp-14.0.4-he0ac6c6_0 None\n",
      "  mkl                conda-forge/linux-64::mkl-2022.1.0-h84fe81f_915 None\n",
      "  mkl-devel          conda-forge/linux-64::mkl-devel-2022.1.0-ha770c72_916 None\n",
      "  mkl-include        conda-forge/linux-64::mkl-include-2022.1.0-h84fe81f_915 None\n",
      "  nettle             conda-forge/linux-64::nettle-3.6-he412f7d_0 None\n",
      "  nsight-compute     nvidia/linux-64::nsight-compute-2023.2.0.16-0 None\n",
      "  numpy              conda-forge/linux-64::numpy-1.25.0-py310ha4c1d20_0 None\n",
      "  openh264           conda-forge/linux-64::openh264-2.1.1-h780b84a_0 None\n",
      "  openjpeg           conda-forge/linux-64::openjpeg-2.5.0-h7d73246_1 None\n",
      "  pillow             conda-forge/linux-64::pillow-9.2.0-py310hbd86126_2 None\n",
      "  pthread-stubs      conda-forge/linux-64::pthread-stubs-0.4-h36c2ea0_1001 None\n",
      "  pytorch            pytorch/linux-64::pytorch-1.13.1-py3.10_cuda11.6_cudnn8.3.2_0 None\n",
      "  pytorch-cuda       pytorch/noarch::pytorch-cuda-11.6-h867d48c_1 None\n",
      "  pytorch-mutex      pytorch/noarch::pytorch-mutex-1.0-cuda None\n",
      "  tbb                conda-forge/linux-64::tbb-2021.7.0-h924138e_0 None\n",
      "  torchaudio         pytorch/linux-64::torchaudio-0.13.1-py310_cu116 None\n",
      "  torchvision        pytorch/linux-64::torchvision-0.14.1-py310_cu116 None\n",
      "  xorg-libxau        conda-forge/linux-64::xorg-libxau-1.0.11-hd590300_0 None\n",
      "  xorg-libxdmcp      conda-forge/linux-64::xorg-libxdmcp-1.1.3-h7f98852_0 None\n",
      "\n",
      "The following packages will be UPDATED:\n",
      "\n",
      "  ca-certificates                      2022.9.24-ha878542_0 --> 2023.5.7-hbcca054_0 None\n",
      "  certifi                            2022.9.24-pyhd8ed1ab_0 --> 2023.5.7-pyhd8ed1ab_0 None\n",
      "  ipykernel                             6.16.0-pyh210e3f2_0 --> 6.20.2-pyh210e3f2_0 None\n",
      "  openssl                                 1.1.1q-h166bdaf_0 --> 1.1.1u-hd590300_0 None\n",
      "\n",
      "The following packages will be DOWNGRADED:\n",
      "\n",
      "  _openmp_mutex                                   4.5-2_gnu --> 4.5-2_kmp_llvm None\n",
      "\n",
      "\n",
      "\n",
      "Downloading and Extracting Packages\n",
      "libdeflate-1.14      | 81 KB     | ##################################### | 100% \n",
      "libcusolver-11.3.4.1 | 87.0 MB   | ##################################### | 100% \n",
      "libcusparse-dev-11.7 | 328.9 MB  | ##################################### | 100% \n",
      "openh264-2.1.1       | 1.5 MB    | ##################################### | 100% \n",
      "cuda-cupti-11.6.124  | 22.1 MB   | ##################################### | 100% \n",
      "_openmp_mutex-4.5    | 6 KB      | ##################################### | 100% \n",
      "cuda-nvdisasm-12.2.5 | 47.9 MB   | ##################################### | 100% \n",
      "freetype-2.12.1      | 884 KB    | ##################################### | 100% \n",
      "libnpp-dev-11.6.3.12 | 115.6 MB  | ##################################### | 100% \n",
      "cuda-toolkit-11.6.1  | 1 KB      | ##################################### | 100% \n",
      "xorg-libxdmcp-1.1.3  | 19 KB     | ##################################### | 100% \n",
      "libblas-3.9.0        | 13 KB     | ##################################### | 100% \n",
      "ffmpeg-4.3           | 9.9 MB    | ##################################### | 100% \n",
      "libcufft-dev-10.7.1. | 197.2 MB  | ##################################### | 100% \n",
      "liblapack-3.9.0      | 12 KB     | ##################################### | 100% \n",
      "cuda-nvprune-11.6.12 | 65 KB     | ##################################### | 100% \n",
      "libgfortran-ng-13.1. | 23 KB     | ##################################### | 100% \n",
      "ipykernel-6.20.2     | 108 KB    | ##################################### | 100% \n",
      "pytorch-cuda-11.6    | 3 KB      | ##################################### | 100% \n",
      "cuda-nvrtc-dev-11.6. | 16.8 MB   | ##################################### | 100% \n",
      "cuda-compiler-11.6.2 | 1 KB      | ##################################### | 100% \n",
      "libcurand-10.3.3.53  | 51.6 MB   | ##################################### | 100% \n",
      "libcusparse-11.7.2.1 | 160.9 MB  | ##################################### | 100% \n",
      "llvm-openmp-14.0.4   | 5.8 MB    | ##################################### | 100% \n",
      "cuda-tools-11.6.1    | 1 KB      | ##################################### | 100% \n",
      "cuda-cccl-11.6.55    | 1.2 MB    | ##################################### | 100% \n",
      "libgfortran5-13.1.0  | 1.4 MB    | ##################################### | 100% \n",
      "pytorch-mutex-1.0    | 3 KB      | ##################################### | 100% \n",
      "certifi-2023.5.7     | 149 KB    | ##################################### | 100% \n",
      "libcblas-3.9.0       | 12 KB     | ##################################### | 100% \n",
      "libpng-1.6.38        | 371 KB    | ##################################### | 100% \n",
      "lcms2-2.14           | 256 KB    | ##################################### | 100% \n",
      "mkl-devel-2022.1.0   | 25 KB     | ##################################### | 100% \n",
      "tbb-2021.7.0         | 2.0 MB    | ##################################### | 100% \n",
      "cuda-nvvp-12.2.60    | 114.5 MB  | ##################################### | 100% \n",
      "cuda-cudart-dev-11.6 | 1.0 MB    | ##################################### | 100% \n",
      "pytorch-1.13.1       | 1.27 GB   | ##################################### | 100% \n",
      "mkl-include-2022.1.0 | 745 KB    | ##################################### | 100% \n",
      "cuda-runtime-11.6.1  | 1 KB      | ##################################### | 100% \n",
      "libnvjpeg-dev-11.6.2 | 2.0 MB    | ##################################### | 100% \n",
      "cuda-nvcc-11.6.124   | 42.2 MB   | ##################################### | 100% \n",
      "libcufile-dev-1.7.0. | 14 KB     | ##################################### | 100% \n",
      "blas-2.116           | 13 KB     | ##################################### | 100% \n",
      "gmp-6.2.1            | 806 KB    | ##################################### | 100% \n",
      "nsight-compute-2023. | 792.3 MB  | ##################################### | 100% \n",
      "lame-3.100           | 496 KB    | ##################################### | 100% \n",
      "libcufft-10.7.1.112  | 93.6 MB   | ##################################### | 100% \n",
      "cuda-nsight-12.2.53  | 113.6 MB  | ##################################### | 100% \n",
      "pillow-9.2.0         | 45.0 MB   | ##################################### | 100% \n",
      "libcublas-dev-11.9.2 | 310.9 MB  | ##################################### | 100% \n",
      "cuda-nvprof-12.2.60  | 4.7 MB    | ##################################### | 100% \n",
      "cuda-nvrtc-11.6.124  | 17.1 MB   | ##################################### | 100% \n",
      "cuda-visual-tools-11 | 1 KB      | ##################################### | 100% \n",
      "lerc-4.0.0           | 275 KB    | ##################################### | 100% \n",
      "cuda-cuobjdump-11.6. | 134 KB    | ##################################### | 100% \n",
      "cuda-samples-11.6.10 | 5 KB      | ##################################### | 100% \n",
      "nettle-3.6           | 6.5 MB    | ##################################### | 100% \n",
      "libcurand-dev-10.3.3 | 449 KB    | ##################################### | 100% \n",
      "openjpeg-2.5.0       | 533 KB    | ##################################### | 100% \n",
      "openssl-1.1.1u       | 1.9 MB    | ##################################### | 100% \n",
      "cuda-libraries-11.6. | 1 KB      | ##################################### | 100% \n",
      "liblapacke-3.9.0     | 12 KB     | ##################################### | 100% \n",
      "cuda-cuxxfilt-11.6.1 | 283 KB    | ##################################### | 100% \n",
      "cuda-nsight-compute- | 1 KB      | ##################################### | 100% \n",
      "cuda-cudart-11.6.55  | 194 KB    | ##################################### | 100% \n",
      "libcublas-11.9.2.110 | 300.8 MB  | ##################################### | 100% \n",
      "cuda-libraries-dev-1 | 2 KB      | ##################################### | 100% \n",
      "gds-tools-1.7.0.149  | 40.8 MB   | ##################################### | 100% \n",
      "cuda-gdb-12.2.53     | 5.3 MB    | ##################################### | 100% \n",
      "comm-0.1.3           | 11 KB     | ##################################### | 100% \n",
      "libtiff-4.4.0        | 651 KB    | ##################################### | 100% \n",
      "libnvjpeg-11.6.2.124 | 2.3 MB    | ##################################### | 100% \n",
      "cuda-driver-dev-11.6 | 16 KB     | ##################################### | 100% \n",
      "cuda-nvml-dev-11.6.5 | 65 KB     | ##################################### | 100% \n",
      "libnpp-11.6.3.124    | 118.4 MB  | ##################################### | 100% \n",
      "numpy-1.25.0         | 6.5 MB    | ##################################### | 100% \n",
      "jpeg-9e              | 235 KB    | ##################################### | 100% \n",
      "gnutls-3.6.13        | 2.0 MB    | ##################################### | 100% \n",
      "cuda-nvtx-11.6.124   | 58 KB     | ##################################### | 100% \n",
      "libwebp-base-1.3.1   | 391 KB    | ##################################### | 100% \n",
      "torchvision-0.14.1   | 7.8 MB    | ##################################### | 100% \n",
      "cuda-sanitizer-api-1 | 16.8 MB   | ##################################### | 100% \n",
      "torchaudio-0.13.1    | 6.5 MB    | ##################################### | 100% \n",
      "cuda-memcheck-11.8.8 | 168 KB    | ##################################### | 100% \n",
      "cuda-11.6.1          | 1 KB      | ##################################### | 100% \n",
      "libcufile-1.7.0.149  | 1021 KB   | ##################################### | 100% \n",
      "ca-certificates-2023 | 145 KB    | ##################################### | 100% \n",
      "xorg-libxau-1.0.11   | 14 KB     | ##################################### | 100% \n",
      "cuda-command-line-to | 1 KB      | ##################################### | 100% \n",
      "pthread-stubs-0.4    | 5 KB      | ##################################### | 100% \n",
      "libxcb-1.13          | 391 KB    | ##################################### | 100% \n",
      "mkl-2022.1.0         | 199.6 MB  | ##################################### | 100% \n",
      "blas-devel-3.9.0     | 12 KB     | ##################################### | 100% \n",
      "Preparing transaction: done\n",
      "Verifying transaction: done\n",
      "Executing transaction: done\n",
      "Retrieving notices: ...working... done\n"
     ]
    }
   ],
   "source": [
    "!conda install -y ipykernel pytorch==1.13.1 torchvision==0.14.1 torchaudio==0.13.1 pytorch-cuda=11.6 -c pytorch -c nvidia"
   ]
  },
  {
   "cell_type": "markdown",
   "id": "133c19f2",
   "metadata": {},
   "source": [
    "First, use the following command to get some basic information about the GPU resources available to your notebook server:"
   ]
  },
  {
   "cell_type": "code",
   "execution_count": 2,
   "id": "707a70d4",
   "metadata": {},
   "outputs": [
    {
     "name": "stdout",
     "output_type": "stream",
     "text": [
      "Sat Jul  1 10:52:40 2023       \n",
      "+-----------------------------------------------------------------------------+\n",
      "| NVIDIA-SMI 525.125.06   Driver Version: 525.125.06   CUDA Version: 12.0     |\n",
      "|-------------------------------+----------------------+----------------------+\n",
      "| GPU  Name        Persistence-M| Bus-Id        Disp.A | Volatile Uncorr. ECC |\n",
      "| Fan  Temp  Perf  Pwr:Usage/Cap|         Memory-Usage | GPU-Util  Compute M. |\n",
      "|                               |                      |               MIG M. |\n",
      "|===============================+======================+======================|\n",
      "|   0  NVIDIA GeForce ...  Off  | 00000000:06:10.0 Off |                  N/A |\n",
      "|  0%   44C    P8    23W / 350W |      6MiB / 12288MiB |      0%      Default |\n",
      "|                               |                      |                  N/A |\n",
      "+-------------------------------+----------------------+----------------------+\n",
      "                                                                               \n",
      "+-----------------------------------------------------------------------------+\n",
      "| Processes:                                                                  |\n",
      "|  GPU   GI   CI        PID   Type   Process name                  GPU Memory |\n",
      "|        ID   ID                                                   Usage      |\n",
      "|=============================================================================|\n",
      "+-----------------------------------------------------------------------------+\n"
     ]
    }
   ],
   "source": [
    "!nvidia-smi"
   ]
  },
  {
   "cell_type": "markdown",
   "id": "3d6e404d",
   "metadata": {},
   "source": [
    "## Check that you can see your GPU\n",
    "\n",
    "Import the torch and torchvision libraries you need in order to work with PyTorch, and ensure that your GPU resources are visible in your notebook server."
   ]
  },
  {
   "cell_type": "markdown",
   "id": "f8c1148a",
   "metadata": {},
   "source": [
    "The following commands import the torch and torchvision utilities, as well as some plotting and tqdm helpers:"
   ]
  },
  {
   "cell_type": "code",
   "execution_count": 5,
   "id": "b85e7327-fc5b-4efd-92e9-9502a329b7a5",
   "metadata": {},
   "outputs": [
    {
     "name": "stdout",
     "output_type": "stream",
     "text": [
      "\u001b[33mWARNING: The directory '/home/jovyan/.cache/pip' or its parent directory is not owned or is not writable by the current user. The cache has been disabled. Check the permissions and owner of that directory. If executing pip with sudo, you should use sudo's -H flag.\u001b[0m\u001b[33m\n",
      "\u001b[0mRequirement already satisfied: tqdm in /opt/conda/lib/python3.10/site-packages (4.64.1)\n",
      "Collecting matplotlib\n",
      "  Downloading matplotlib-3.7.1-cp310-cp310-manylinux_2_17_x86_64.manylinux2014_x86_64.whl (11.6 MB)\n",
      "\u001b[2K     \u001b[90m━━━━━━━━━━━━━━━━━━━━━━━━━━━━━━━━━━━━━━━━\u001b[0m \u001b[32m11.6/11.6 MB\u001b[0m \u001b[31m58.7 MB/s\u001b[0m eta \u001b[36m0:00:00\u001b[0ma \u001b[36m0:00:01\u001b[0m\n",
      "\u001b[?25hRequirement already satisfied: pillow>=6.2.0 in /opt/conda/lib/python3.10/site-packages (from matplotlib) (9.2.0)\n",
      "Requirement already satisfied: packaging>=20.0 in /opt/conda/lib/python3.10/site-packages (from matplotlib) (21.3)\n",
      "Collecting contourpy>=1.0.1\n",
      "  Downloading contourpy-1.1.0-cp310-cp310-manylinux_2_17_x86_64.manylinux2014_x86_64.whl (300 kB)\n",
      "\u001b[2K     \u001b[90m━━━━━━━━━━━━━━━━━━━━━━━━━━━━━━━━━━━━━\u001b[0m \u001b[32m300.7/300.7 kB\u001b[0m \u001b[31m113.3 MB/s\u001b[0m eta \u001b[36m0:00:00\u001b[0m\n",
      "\u001b[?25hRequirement already satisfied: numpy>=1.20 in /opt/conda/lib/python3.10/site-packages (from matplotlib) (1.25.0)\n",
      "Collecting kiwisolver>=1.0.1\n",
      "  Downloading kiwisolver-1.4.4-cp310-cp310-manylinux_2_12_x86_64.manylinux2010_x86_64.whl (1.6 MB)\n",
      "\u001b[2K     \u001b[90m━━━━━━━━━━━━━━━━━━━━━━━━━━━━━━━━━━━━━━━━\u001b[0m \u001b[32m1.6/1.6 MB\u001b[0m \u001b[31m65.5 MB/s\u001b[0m eta \u001b[36m0:00:00\u001b[0m\n",
      "\u001b[?25hRequirement already satisfied: pyparsing>=2.3.1 in /opt/conda/lib/python3.10/site-packages (from matplotlib) (3.0.9)\n",
      "Collecting fonttools>=4.22.0\n",
      "  Downloading fonttools-4.40.0-cp310-cp310-manylinux_2_17_x86_64.manylinux2014_x86_64.whl (4.2 MB)\n",
      "\u001b[2K     \u001b[90m━━━━━━━━━━━━━━━━━━━━━━━━━━━━━━━━━━━━━━━━\u001b[0m \u001b[32m4.2/4.2 MB\u001b[0m \u001b[31m59.0 MB/s\u001b[0m eta \u001b[36m0:00:00\u001b[0m00:01\u001b[0m00:01\u001b[0m\n",
      "\u001b[?25hCollecting cycler>=0.10\n",
      "  Downloading cycler-0.11.0-py3-none-any.whl (6.4 kB)\n",
      "Requirement already satisfied: python-dateutil>=2.7 in /opt/conda/lib/python3.10/site-packages (from matplotlib) (2.8.2)\n",
      "Requirement already satisfied: six>=1.5 in /opt/conda/lib/python3.10/site-packages (from python-dateutil>=2.7->matplotlib) (1.16.0)\n",
      "Installing collected packages: kiwisolver, fonttools, cycler, contourpy, matplotlib\n",
      "Successfully installed contourpy-1.1.0 cycler-0.11.0 fonttools-4.40.0 kiwisolver-1.4.4 matplotlib-3.7.1\n",
      "\u001b[33mWARNING: Running pip as the 'root' user can result in broken permissions and conflicting behaviour with the system package manager. It is recommended to use a virtual environment instead: https://pip.pypa.io/warnings/venv\u001b[0m\u001b[33m\n",
      "\u001b[0m"
     ]
    }
   ],
   "source": [
    "# !pip install torchvision==0.9.1\n",
    "!pip install tqdm matplotlib"
   ]
  },
  {
   "cell_type": "code",
   "execution_count": 6,
   "id": "52215703-b42f-4986-b8aa-7b69b1fc2a10",
   "metadata": {},
   "outputs": [],
   "source": [
    "import torch\n",
    "import torch.nn as nn\n",
    "import torch.nn.functional as F\n",
    "from torch.utils.data import TensorDataset\n",
    "import torch.optim as optim\n",
    "import torchvision\n",
    "from torchvision import datasets\n",
    "import torchvision.transforms as transforms\n",
    "import matplotlib.pyplot as plt\n",
    "from tqdm import tqdm"
   ]
  },
  {
   "cell_type": "markdown",
   "id": "886428f5-927e-4ee8-acd7-b7171cba60aa",
   "metadata": {},
   "source": [
    "Now that these libraries are imported, you can use the following commands to check whether a GPU is available, and how many GPUs this notebook server has access to:"
   ]
  },
  {
   "cell_type": "code",
   "execution_count": 7,
   "id": "b6ae7609-a3ac-4c42-a723-5942ba35cbef",
   "metadata": {},
   "outputs": [
    {
     "data": {
      "text/plain": [
       "True"
      ]
     },
     "execution_count": 7,
     "metadata": {},
     "output_type": "execute_result"
    }
   ],
   "source": [
    "torch.cuda.is_available()  # Do we have a GPU? Should return True."
   ]
  },
  {
   "cell_type": "code",
   "execution_count": 8,
   "id": "1bd42b00-318f-4a7f-991b-6aea8162469c",
   "metadata": {},
   "outputs": [
    {
     "data": {
      "text/plain": [
       "1"
      ]
     },
     "execution_count": 8,
     "metadata": {},
     "output_type": "execute_result"
    }
   ],
   "source": [
    "torch.cuda.device_count()  # How many GPUs do we have access to?"
   ]
  },
  {
   "cell_type": "markdown",
   "id": "a6632626-9385-46b7-b2c9-37fe6fc12a24",
   "metadata": {},
   "source": [
    "Make sure that you can see at least 1 GPU available before continuing to the next section.\n",
    "\n",
    "If you see 0 GPUs available, click *File* -> *Hub Control Panel* to go back to the notebook server control panel.\n",
    "\n",
    "Stop your notebook server and start your notebook server again, making sure to use a GPU compatible notebook image and add at least 1 GPU. If you selected 1 or more GPUs and you still cannot see a GPU when you run the previous commands, contact your administrator.\n"
   ]
  },
  {
   "cell_type": "markdown",
   "id": "b018d342-1674-4800-8bd1-e8a18f2d632c",
   "metadata": {},
   "source": [
    "## Assign your GPU as a device\n",
    "\n",
    "Assign the first GPU device to the `device` variable, and get the device name for your GPU."
   ]
  },
  {
   "cell_type": "code",
   "execution_count": 9,
   "id": "1dcee4ed-1a94-4ca6-9b9a-d708a0e40d52",
   "metadata": {},
   "outputs": [
    {
     "name": "stdout",
     "output_type": "stream",
     "text": [
      "cuda:0\n"
     ]
    }
   ],
   "source": [
    "device = torch.device(\"cuda:0\" if torch.cuda.is_available() else \"cpu\")\n",
    "print(device)  # Check which device we got"
   ]
  },
  {
   "cell_type": "markdown",
   "id": "b6686219-275c-4ec0-909b-07d9934be4cb",
   "metadata": {},
   "source": [
    "If the output of the `print` command is `cuda:0`, continue to the next step.\n",
    "\n",
    "If not, your environment is not set up correctly. Make sure that you use a GPU compatible notebook image and add at least 1 GPU when you start your notebook server."
   ]
  },
  {
   "cell_type": "markdown",
   "id": "b25685a6",
   "metadata": {},
   "source": [
    "Next, check the device name of the GPU:"
   ]
  },
  {
   "cell_type": "code",
   "execution_count": 10,
   "id": "86a4537e-0719-4335-b051-321e03d13268",
   "metadata": {},
   "outputs": [
    {
     "data": {
      "text/plain": [
       "'NVIDIA GeForce RTX 3080 Ti'"
      ]
     },
     "execution_count": 10,
     "metadata": {},
     "output_type": "execute_result"
    }
   ],
   "source": [
    "torch.cuda.get_device_name(0)"
   ]
  },
  {
   "cell_type": "markdown",
   "id": "d851d797-c6e3-4b70-92a4-30115307ac1d",
   "metadata": {},
   "source": [
    "## Loading vectors, matrices, and other data onto the GPU\n",
    "\n",
    "Run the following commands to create a data structure and load it onto the GPU device, or create your data structure on the GPU device directly."
   ]
  },
  {
   "cell_type": "code",
   "execution_count": 11,
   "id": "b73245d8-27e9-48fb-939f-ce952f4fe2cb",
   "metadata": {},
   "outputs": [
    {
     "name": "stdout",
     "output_type": "stream",
     "text": [
      "False , cpu\n"
     ]
    }
   ],
   "source": [
    "X_train = torch.IntTensor([0, 30, 50, 75, 70])  # Initialize a Tensor of Integers with no device specified\n",
    "print(X_train.is_cuda, \",\", X_train.device)  # Check which device Tensor is created on"
   ]
  },
  {
   "cell_type": "code",
   "execution_count": 12,
   "id": "dde4baa6-84a6-4c32-ab20-5be6d529a22a",
   "metadata": {},
   "outputs": [
    {
     "name": "stdout",
     "output_type": "stream",
     "text": [
      "True , cuda:0\n"
     ]
    }
   ],
   "source": [
    "# Move the Tensor to the device we want to use\n",
    "X_train = X_train.cuda()\n",
    "# Alternative method: specify the device using the variable\n",
    "# X_train = X_train.to(device)\n",
    "# Confirm that the Tensor is on the GPU now\n",
    "print(X_train.is_cuda, \",\", X_train.device)"
   ]
  },
  {
   "cell_type": "code",
   "execution_count": 13,
   "id": "947393c8-a9ac-42ff-a790-7a3b21d87763",
   "metadata": {},
   "outputs": [
    {
     "name": "stdout",
     "output_type": "stream",
     "text": [
      "True , cuda:0\n"
     ]
    }
   ],
   "source": [
    "# Alternative method: Initialize the Tensor directly on a specific device.\n",
    "X_test = torch.cuda.IntTensor([30, 40, 50], device=device)\n",
    "print(X_test.is_cuda, \",\", X_test.device)"
   ]
  },
  {
   "cell_type": "markdown",
   "id": "bd36b890-b52d-4968-838d-f749aa4d456f",
   "metadata": {},
   "source": [
    "## Loading a Neural Network Model onto the GPU\n",
    "\n",
    "Run the following commands to create or load a model onto your GPU device."
   ]
  },
  {
   "cell_type": "markdown",
   "id": "bd51a2fb",
   "metadata": {},
   "source": [
    "The following code is a basic, fully connected neural network built in Torch."
   ]
  },
  {
   "cell_type": "code",
   "execution_count": 14,
   "id": "23ac26d2-8019-40ad-a659-985977c7fdfa",
   "metadata": {},
   "outputs": [],
   "source": [
    "# Here is a basic fully connected neural network built in Torch.\n",
    "# If we want to load it / train it on our GPU, we must first put it on the GPU\n",
    "# Otherwise it will remain on CPU by default.\n",
    "\n",
    "batch_size = 100\n",
    "\n",
    "\n",
    "class SimpleNet(nn.Module):\n",
    "    def __init__(self):\n",
    "        super(SimpleNet, self).__init__()\n",
    "        self.fc1 = nn.Linear(784, 784)\n",
    "        self.fc2 = nn.Linear(784, 10)\n",
    "\n",
    "    def forward(self, x):\n",
    "        x = x.view(batch_size, -1)\n",
    "        x = self.fc1(x)\n",
    "        x = F.relu(x)\n",
    "        x = self.fc2(x)\n",
    "        output = F.softmax(x, dim=1)\n",
    "        return output"
   ]
  },
  {
   "cell_type": "markdown",
   "id": "ffcf46a9",
   "metadata": {},
   "source": [
    "Running the above code starts the neural network running on the CPU by default.\n",
    "\n",
    "The following code moves the model onto the GPU, so that it can be trained with a large data set more quickly."
   ]
  },
  {
   "cell_type": "code",
   "execution_count": 15,
   "id": "0545d521-be18-4623-9cbc-f6836e2126c9",
   "metadata": {},
   "outputs": [],
   "source": [
    "model = SimpleNet().to(device)  # Load the neural network model onto the GPU"
   ]
  },
  {
   "cell_type": "markdown",
   "id": "843ada70-fb3d-4439-a643-ad7a1ac6da27",
   "metadata": {},
   "source": [
    "## Training the Neural Network Model\n",
    "\n",
    "The examples in this section show you how to train your neural network model using the [FashionMNIST data set](https://github.com/zalandoresearch/fashion-mnist)."
   ]
  },
  {
   "cell_type": "markdown",
   "id": "634989ee",
   "metadata": {},
   "source": [
    "The following code uses the PyTorch data loader to download the data set, and set up training and testing data sets to work with."
   ]
  },
  {
   "cell_type": "code",
   "execution_count": 16,
   "id": "57e786b0-ec30-4c9d-995b-8000912e6189",
   "metadata": {},
   "outputs": [
    {
     "name": "stdout",
     "output_type": "stream",
     "text": [
      "Downloading http://fashion-mnist.s3-website.eu-central-1.amazonaws.com/train-images-idx3-ubyte.gz\n",
      "Downloading http://fashion-mnist.s3-website.eu-central-1.amazonaws.com/train-images-idx3-ubyte.gz to ./data/FashionMNIST/raw/train-images-idx3-ubyte.gz\n"
     ]
    },
    {
     "name": "stderr",
     "output_type": "stream",
     "text": [
      "100%|███████████████████████████████████████████████████████████████████████████████| 26421880/26421880 [00:05<00:00, 5040423.94it/s]\n"
     ]
    },
    {
     "name": "stdout",
     "output_type": "stream",
     "text": [
      "Extracting ./data/FashionMNIST/raw/train-images-idx3-ubyte.gz to ./data/FashionMNIST/raw\n",
      "\n",
      "Downloading http://fashion-mnist.s3-website.eu-central-1.amazonaws.com/train-labels-idx1-ubyte.gz\n",
      "Downloading http://fashion-mnist.s3-website.eu-central-1.amazonaws.com/train-labels-idx1-ubyte.gz to ./data/FashionMNIST/raw/train-labels-idx1-ubyte.gz\n"
     ]
    },
    {
     "name": "stderr",
     "output_type": "stream",
     "text": [
      "100%|███████████████████████████████████████████████████████████████████████████████████████| 29515/29515 [00:00<00:00, 57466.19it/s]\n"
     ]
    },
    {
     "name": "stdout",
     "output_type": "stream",
     "text": [
      "Extracting ./data/FashionMNIST/raw/train-labels-idx1-ubyte.gz to ./data/FashionMNIST/raw\n",
      "\n",
      "Downloading http://fashion-mnist.s3-website.eu-central-1.amazonaws.com/t10k-images-idx3-ubyte.gz\n",
      "Downloading http://fashion-mnist.s3-website.eu-central-1.amazonaws.com/t10k-images-idx3-ubyte.gz to ./data/FashionMNIST/raw/t10k-images-idx3-ubyte.gz\n"
     ]
    },
    {
     "name": "stderr",
     "output_type": "stream",
     "text": [
      "100%|█████████████████████████████████████████████████████████████████████████████████| 4422102/4422102 [00:02<00:00, 1980381.17it/s]\n"
     ]
    },
    {
     "name": "stdout",
     "output_type": "stream",
     "text": [
      "Extracting ./data/FashionMNIST/raw/t10k-images-idx3-ubyte.gz to ./data/FashionMNIST/raw\n",
      "\n",
      "Downloading http://fashion-mnist.s3-website.eu-central-1.amazonaws.com/t10k-labels-idx1-ubyte.gz\n",
      "Downloading http://fashion-mnist.s3-website.eu-central-1.amazonaws.com/t10k-labels-idx1-ubyte.gz to ./data/FashionMNIST/raw/t10k-labels-idx1-ubyte.gz\n"
     ]
    },
    {
     "name": "stderr",
     "output_type": "stream",
     "text": [
      "100%|██████████████████████████████████████████████████████████████████████████████████████| 5148/5148 [00:00<00:00, 17844857.02it/s]"
     ]
    },
    {
     "name": "stdout",
     "output_type": "stream",
     "text": [
      "Extracting ./data/FashionMNIST/raw/t10k-labels-idx1-ubyte.gz to ./data/FashionMNIST/raw\n",
      "\n"
     ]
    },
    {
     "name": "stderr",
     "output_type": "stream",
     "text": [
      "\n"
     ]
    }
   ],
   "source": [
    "\"\"\"\n",
    "    Data loading, train and test set via the PyTorch dataloader.\n",
    "\"\"\"\n",
    "# Transform our data into Tensors to normalize the data\n",
    "train_transform=transforms.Compose([\n",
    "        transforms.ToTensor(),\n",
    "        transforms.Normalize((0.1307,), (0.3081,))\n",
    "        ])\n",
    "\n",
    "test_transform=transforms.Compose([\n",
    "        transforms.ToTensor(),\n",
    "        transforms.Normalize((0.1307,), (0.3081,)),\n",
    "        ])\n",
    "\n",
    "# Set up a training data set\n",
    "trainset = datasets.FashionMNIST('./data', train=True, download=True,\n",
    "                   transform=train_transform)\n",
    "train_loader = torch.utils.data.DataLoader(trainset, batch_size=batch_size,\n",
    "                                          shuffle=False, num_workers=2)\n",
    "\n",
    "# Set up a test data set\n",
    "testset = datasets.FashionMNIST('./data', train=False,\n",
    "                   transform=test_transform)\n",
    "test_loader = torch.utils.data.DataLoader(testset, batch_size=batch_size,\n",
    "                                         shuffle=False, num_workers=2)"
   ]
  },
  {
   "cell_type": "markdown",
   "id": "f77af8df",
   "metadata": {},
   "source": [
    "Place the labels from the FashionMNIST data set into dictionary format, and plot a selection of the data to verify:"
   ]
  },
  {
   "cell_type": "code",
   "execution_count": 17,
   "id": "2fed4ee2-5900-452a-875d-973ae27206db",
   "metadata": {},
   "outputs": [
    {
     "data": {
      "image/png": "[encoded data removed]",
      "text/plain": [
       "<Figure size 800x800 with 9 Axes>"
      ]
     },
     "metadata": {},
     "output_type": "display_data"
    }
   ],
   "source": [
    "# A dictionary to map our class numbers to their items.\n",
    "labels_map = {\n",
    "    0: \"T-Shirt\",\n",
    "    1: \"Trouser\",\n",
    "    2: \"Pullover\",\n",
    "    3: \"Dress\",\n",
    "    4: \"Coat\",\n",
    "    5: \"Sandal\",\n",
    "    6: \"Shirt\",\n",
    "    7: \"Sneaker\",\n",
    "    8: \"Bag\",\n",
    "    9: \"Ankle Boot\",\n",
    "}\n",
    "\n",
    "# Plotting 9 random different items from the training data set, trainset.\n",
    "figure = plt.figure(figsize=(8, 8))\n",
    "for i in range(1, 3 * 3 + 1):\n",
    "    sample_idx = torch.randint(len(trainset), size=(1,)).item()\n",
    "    img, label = trainset[sample_idx]\n",
    "    figure.add_subplot(3, 3, i)\n",
    "    plt.title(labels_map[label])\n",
    "    plt.axis(\"off\")\n",
    "    plt.imshow(img.view(28,28), cmap=\"gray\")\n",
    "plt.show()"
   ]
  },
  {
   "cell_type": "markdown",
   "id": "88822b5b-565c-4f9b-9dbb-9647a2fc6c01",
   "metadata": {},
   "source": [
    "Run the following code to train the model and see how well it can classify fashion items into the 10 classes in the dictionary."
   ]
  },
  {
   "cell_type": "code",
   "execution_count": 18,
   "id": "1024390a-3e87-42a6-b406-b1067402b568",
   "metadata": {},
   "outputs": [],
   "source": [
    "def train(model, device, train_loader, optimizer, epoch):\n",
    "    \"\"\"Model training function\"\"\"\n",
    "    model.train()\n",
    "    print(device)\n",
    "    for batch_idx, (data, target) in tqdm(enumerate(train_loader)):\n",
    "        data, target = data.to(device), target.to(device)\n",
    "        optimizer.zero_grad()\n",
    "        output = model(data)\n",
    "        loss = F.nll_loss(output, target)\n",
    "        loss.backward()\n",
    "        optimizer.step()"
   ]
  },
  {
   "cell_type": "code",
   "execution_count": 19,
   "id": "049398c5-00d7-4706-9206-aa291cb0ad54",
   "metadata": {},
   "outputs": [],
   "source": [
    "def test(model, device, test_loader):\n",
    "    model.eval()\n",
    "    test_loss = 0\n",
    "    correct = 0\n",
    "    # Use the no_grad method to increase computation speed\n",
    "    # since computing the gradient is not necessary in this step.\n",
    "    with torch.no_grad():\n",
    "        for data, target in test_loader:\n",
    "            data, target = data.to(device), target.to(device)\n",
    "            output = model(data)\n",
    "            test_loss += F.nll_loss(output, target, reduction='sum').item()  # sum up batch loss\n",
    "            pred = output.argmax(dim=1, keepdim=True)  # get the index of the max log-probability\n",
    "            correct += pred.eq(target.view_as(pred)).sum().item()\n",
    "\n",
    "    test_loss /= len(test_loader.dataset)\n",
    "\n",
    "    print('\\nTest set: Average loss: {:.4f}, Accuracy: {}/{} ({:.0f}%)\\n'.format(\n",
    "        test_loss, correct, len(test_loader.dataset),\n",
    "        100. * correct / len(test_loader.dataset)))"
   ]
  },
  {
   "cell_type": "code",
   "execution_count": 20,
   "id": "9dbf0b2f-1e88-4e99-aa25-b56eae471a04",
   "metadata": {},
   "outputs": [],
   "source": [
    "# number of  training 'epochs'\n",
    "EPOCHS = 5\n",
    "# our optimization strategy used in training.\n",
    "optimizer = optim.Adadelta(model.parameters(), lr=0.01)"
   ]
  },
  {
   "cell_type": "code",
   "execution_count": 21,
   "id": "33e4b14b-4a77-4af1-bc88-4b659c908e3f",
   "metadata": {},
   "outputs": [
    {
     "name": "stdout",
     "output_type": "stream",
     "text": [
      "EPOCH: 1\n",
      "cuda:0\n"
     ]
    },
    {
     "name": "stderr",
     "output_type": "stream",
     "text": [
      "600it [00:04, 149.91it/s]\n"
     ]
    },
    {
     "name": "stdout",
     "output_type": "stream",
     "text": [
      "\n",
      "Test set: Average loss: -0.5706, Accuracy: 6314/10000 (63%)\n",
      "\n",
      "EPOCH: 2\n",
      "cuda:0\n"
     ]
    },
    {
     "name": "stderr",
     "output_type": "stream",
     "text": [
      "600it [00:03, 167.69it/s]\n"
     ]
    },
    {
     "name": "stdout",
     "output_type": "stream",
     "text": [
      "\n",
      "Test set: Average loss: -0.6397, Accuracy: 6997/10000 (70%)\n",
      "\n",
      "EPOCH: 3\n",
      "cuda:0\n"
     ]
    },
    {
     "name": "stderr",
     "output_type": "stream",
     "text": [
      "600it [00:03, 162.41it/s]\n"
     ]
    },
    {
     "name": "stdout",
     "output_type": "stream",
     "text": [
      "\n",
      "Test set: Average loss: -0.6725, Accuracy: 7113/10000 (71%)\n",
      "\n",
      "EPOCH: 4\n",
      "cuda:0\n"
     ]
    },
    {
     "name": "stderr",
     "output_type": "stream",
     "text": [
      "600it [00:03, 166.50it/s]\n"
     ]
    },
    {
     "name": "stdout",
     "output_type": "stream",
     "text": [
      "\n",
      "Test set: Average loss: -0.6872, Accuracy: 7148/10000 (71%)\n",
      "\n",
      "EPOCH: 5\n",
      "cuda:0\n"
     ]
    },
    {
     "name": "stderr",
     "output_type": "stream",
     "text": [
      "600it [00:03, 172.65it/s]\n"
     ]
    },
    {
     "name": "stdout",
     "output_type": "stream",
     "text": [
      "\n",
      "Test set: Average loss: -0.6961, Accuracy: 7201/10000 (72%)\n",
      "\n"
     ]
    }
   ],
   "source": [
    "for epoch in range(1, EPOCHS + 1):\n",
    "        print( f\"EPOCH: {epoch}\")\n",
    "        train(model, device, train_loader, optimizer, epoch)\n",
    "        test(model, device, test_loader)"
   ]
  },
  {
   "cell_type": "markdown",
   "id": "b82007ad",
   "metadata": {},
   "source": [
    "The accuracy of the model increases over a number of epochs, from about 63% in the first epoch to about 72% in the fifth. (The exact numbers here might vary, depending on random weight initialization on your notebook server.)"
   ]
  },
  {
   "cell_type": "markdown",
   "id": "73bcd335-5960-40dc-972e-7d76dc3e2674",
   "metadata": {},
   "source": [
    "## Saving the model state\n",
    "\n",
    "Now that the model is trained, save it so that it can be used in the next notebook, *Loading and Running a PyTorch Model*."
   ]
  },
  {
   "cell_type": "code",
   "execution_count": 22,
   "id": "50684945-fee9-4a13-89c2-511b27bc817c",
   "metadata": {},
   "outputs": [],
   "source": [
    "# Saving the model's weights!\n",
    "torch.save(model.state_dict(), \"mnist_fashion_SimpleNet.pt\")"
   ]
  },
  {
   "cell_type": "code",
   "execution_count": null,
   "id": "23c132ed-d39a-492d-b3ee-32045ce14ded",
   "metadata": {},
   "outputs": [],
   "source": []
  }
 ],
 "metadata": {
  "kernelspec": {
   "display_name": "Python 3 (ipykernel)",
   "language": "python",
   "name": "python3"
  },
  "language_info": {
   "codemirror_mode": {
    "name": "ipython",
    "version": 3
   },
   "file_extension": ".py",
   "mimetype": "text/x-python",
   "name": "python",
   "nbconvert_exporter": "python",
   "pygments_lexer": "ipython3",
   "version": "3.10.6"
  },
  "vscode": {
   "interpreter": {
    "hash": "e7370f93d1d0cde622a1f8e1c04877d8463912d04d973331ad4851f04de6915a"
   }
  }
 },
 "nbformat": 4,
 "nbformat_minor": 5
}
